{
 "cells": [
  {
   "cell_type": "code",
   "execution_count": 22,
   "id": "285a2684",
   "metadata": {},
   "outputs": [
    {
     "name": "stdout",
     "output_type": "stream",
     "text": [
      "Requirement already satisfied: pandas in c:\\programdata\\anaconda3\\lib\\site-packages (1.3.4)\n",
      "Requirement already satisfied: pytz>=2017.3 in c:\\programdata\\anaconda3\\lib\\site-packages (from pandas) (2021.3)\n",
      "Requirement already satisfied: python-dateutil>=2.7.3 in c:\\programdata\\anaconda3\\lib\\site-packages (from pandas) (2.8.2)\n",
      "Requirement already satisfied: numpy>=1.17.3 in c:\\programdata\\anaconda3\\lib\\site-packages (from pandas) (1.20.3)\n",
      "Requirement already satisfied: six>=1.5 in c:\\programdata\\anaconda3\\lib\\site-packages (from python-dateutil>=2.7.3->pandas) (1.16.0)\n"
     ]
    },
    {
     "name": "stderr",
     "output_type": "stream",
     "text": [
      "WARNING: Ignoring invalid distribution -ipy (c:\\programdata\\anaconda3\\lib\\site-packages)\n",
      "WARNING: Ignoring invalid distribution -ytz (c:\\programdata\\anaconda3\\lib\\site-packages)\n",
      "WARNING: Ignoring invalid distribution - (c:\\programdata\\anaconda3\\lib\\site-packages)\n",
      "WARNING: Ignoring invalid distribution -cipy (c:\\programdata\\anaconda3\\lib\\site-packages)\n",
      "WARNING: Ignoring invalid distribution -ipy (c:\\programdata\\anaconda3\\lib\\site-packages)\n",
      "WARNING: Ignoring invalid distribution -ytz (c:\\programdata\\anaconda3\\lib\\site-packages)\n",
      "WARNING: Ignoring invalid distribution - (c:\\programdata\\anaconda3\\lib\\site-packages)\n",
      "WARNING: Ignoring invalid distribution -cipy (c:\\programdata\\anaconda3\\lib\\site-packages)\n",
      "WARNING: Ignoring invalid distribution -ipy (c:\\programdata\\anaconda3\\lib\\site-packages)\n",
      "WARNING: Ignoring invalid distribution -ytz (c:\\programdata\\anaconda3\\lib\\site-packages)\n",
      "WARNING: Ignoring invalid distribution - (c:\\programdata\\anaconda3\\lib\\site-packages)\n",
      "WARNING: Ignoring invalid distribution -cipy (c:\\programdata\\anaconda3\\lib\\site-packages)\n",
      "WARNING: Ignoring invalid distribution -ipy (c:\\programdata\\anaconda3\\lib\\site-packages)\n",
      "WARNING: Ignoring invalid distribution -ytz (c:\\programdata\\anaconda3\\lib\\site-packages)\n",
      "WARNING: Ignoring invalid distribution - (c:\\programdata\\anaconda3\\lib\\site-packages)\n",
      "WARNING: Ignoring invalid distribution -cipy (c:\\programdata\\anaconda3\\lib\\site-packages)\n",
      "WARNING: Ignoring invalid distribution -ipy (c:\\programdata\\anaconda3\\lib\\site-packages)\n",
      "WARNING: Ignoring invalid distribution -ytz (c:\\programdata\\anaconda3\\lib\\site-packages)\n",
      "WARNING: Ignoring invalid distribution - (c:\\programdata\\anaconda3\\lib\\site-packages)\n",
      "WARNING: Ignoring invalid distribution -cipy (c:\\programdata\\anaconda3\\lib\\site-packages)\n",
      "WARNING: Ignoring invalid distribution -ipy (c:\\programdata\\anaconda3\\lib\\site-packages)\n",
      "WARNING: Ignoring invalid distribution -ytz (c:\\programdata\\anaconda3\\lib\\site-packages)\n",
      "WARNING: Ignoring invalid distribution - (c:\\programdata\\anaconda3\\lib\\site-packages)\n",
      "WARNING: Ignoring invalid distribution -cipy (c:\\programdata\\anaconda3\\lib\\site-packages)\n"
     ]
    },
    {
     "name": "stdout",
     "output_type": "stream",
     "text": [
      "Requirement already satisfied: matplotlib in c:\\programdata\\anaconda3\\lib\\site-packages (3.4.3)\n",
      "Requirement already satisfied: cycler>=0.10 in c:\\programdata\\anaconda3\\lib\\site-packages (from matplotlib) (0.10.0)\n",
      "Requirement already satisfied: pillow>=6.2.0 in c:\\programdata\\anaconda3\\lib\\site-packages (from matplotlib) (8.4.0)\n",
      "Requirement already satisfied: python-dateutil>=2.7 in c:\\programdata\\anaconda3\\lib\\site-packages (from matplotlib) (2.8.2)\n",
      "Requirement already satisfied: pyparsing>=2.2.1 in c:\\programdata\\anaconda3\\lib\\site-packages (from matplotlib) (3.0.4)\n",
      "Requirement already satisfied: numpy>=1.16 in c:\\programdata\\anaconda3\\lib\\site-packages (from matplotlib) (1.20.3)\n",
      "Requirement already satisfied: kiwisolver>=1.0.1 in c:\\programdata\\anaconda3\\lib\\site-packages (from matplotlib) (1.3.1)\n",
      "Requirement already satisfied: six in c:\\programdata\\anaconda3\\lib\\site-packages (from cycler>=0.10->matplotlib) (1.16.0)\n"
     ]
    },
    {
     "name": "stderr",
     "output_type": "stream",
     "text": [
      "WARNING: Ignoring invalid distribution -ipy (c:\\programdata\\anaconda3\\lib\\site-packages)\n",
      "WARNING: Ignoring invalid distribution -ytz (c:\\programdata\\anaconda3\\lib\\site-packages)\n",
      "WARNING: Ignoring invalid distribution - (c:\\programdata\\anaconda3\\lib\\site-packages)\n",
      "WARNING: Ignoring invalid distribution -cipy (c:\\programdata\\anaconda3\\lib\\site-packages)\n",
      "WARNING: Ignoring invalid distribution -ipy (c:\\programdata\\anaconda3\\lib\\site-packages)\n",
      "WARNING: Ignoring invalid distribution -ytz (c:\\programdata\\anaconda3\\lib\\site-packages)\n",
      "WARNING: Ignoring invalid distribution - (c:\\programdata\\anaconda3\\lib\\site-packages)\n",
      "WARNING: Ignoring invalid distribution -cipy (c:\\programdata\\anaconda3\\lib\\site-packages)\n",
      "WARNING: Ignoring invalid distribution -ipy (c:\\programdata\\anaconda3\\lib\\site-packages)\n",
      "WARNING: Ignoring invalid distribution -ytz (c:\\programdata\\anaconda3\\lib\\site-packages)\n",
      "WARNING: Ignoring invalid distribution - (c:\\programdata\\anaconda3\\lib\\site-packages)\n",
      "WARNING: Ignoring invalid distribution -cipy (c:\\programdata\\anaconda3\\lib\\site-packages)\n",
      "WARNING: Ignoring invalid distribution -ipy (c:\\programdata\\anaconda3\\lib\\site-packages)\n",
      "WARNING: Ignoring invalid distribution -ytz (c:\\programdata\\anaconda3\\lib\\site-packages)\n",
      "WARNING: Ignoring invalid distribution - (c:\\programdata\\anaconda3\\lib\\site-packages)\n",
      "WARNING: Ignoring invalid distribution -cipy (c:\\programdata\\anaconda3\\lib\\site-packages)\n",
      "WARNING: Ignoring invalid distribution -ipy (c:\\programdata\\anaconda3\\lib\\site-packages)\n",
      "WARNING: Ignoring invalid distribution -ytz (c:\\programdata\\anaconda3\\lib\\site-packages)\n",
      "WARNING: Ignoring invalid distribution - (c:\\programdata\\anaconda3\\lib\\site-packages)\n",
      "WARNING: Ignoring invalid distribution -cipy (c:\\programdata\\anaconda3\\lib\\site-packages)\n",
      "WARNING: Ignoring invalid distribution -ipy (c:\\programdata\\anaconda3\\lib\\site-packages)\n",
      "WARNING: Ignoring invalid distribution -ytz (c:\\programdata\\anaconda3\\lib\\site-packages)\n",
      "WARNING: Ignoring invalid distribution - (c:\\programdata\\anaconda3\\lib\\site-packages)\n",
      "WARNING: Ignoring invalid distribution -cipy (c:\\programdata\\anaconda3\\lib\\site-packages)\n"
     ]
    }
   ],
   "source": [
    "from __future__ import print_function\n",
    "import tensorflow as tf\n",
    "\n",
    "from tensorflow.keras.models import Sequential\n",
    "from tensorflow.keras.layers import Dense, Dropout, Flatten\n",
    "from tensorflow.keras.layers import Conv2D, MaxPooling2D\n",
    "#from keras import backend as K\n",
    "!pip install pandas\n",
    "!pip install matplotlib\n",
    "\n",
    "import random\n",
    "import numpy as np\n",
    "import pandas as pd\n",
    "\n",
    "import scipy.io\n",
    "from scipy.signal import spectrogram\n",
    "import matplotlib.pyplot as plt"
   ]
  },
  {
   "cell_type": "code",
   "execution_count": null,
   "id": "46c03c93",
   "metadata": {},
   "outputs": [],
   "source": [
    "#pip uninstall firebase-admin"
   ]
  },
  {
   "cell_type": "code",
   "execution_count": 10,
   "id": "4ce96ab6",
   "metadata": {},
   "outputs": [
    {
     "name": "stdout",
     "output_type": "stream",
     "text": [
      "Requirement already satisfied: scipy in c:\\programdata\\anaconda3\\lib\\site-packages (1.7.1)\n",
      "Requirement already satisfied: numpy<1.23.0,>=1.16.5 in c:\\programdata\\anaconda3\\lib\\site-packages (from scipy) (1.20.3)\n",
      "Note: you may need to restart the kernel to use updated packages.\n"
     ]
    },
    {
     "name": "stderr",
     "output_type": "stream",
     "text": [
      "WARNING: Ignoring invalid distribution -ytz (c:\\programdata\\anaconda3\\lib\\site-packages)\n",
      "WARNING: Ignoring invalid distribution - (c:\\programdata\\anaconda3\\lib\\site-packages)\n",
      "WARNING: Ignoring invalid distribution -ytz (c:\\programdata\\anaconda3\\lib\\site-packages)\n",
      "WARNING: Ignoring invalid distribution - (c:\\programdata\\anaconda3\\lib\\site-packages)\n",
      "WARNING: Ignoring invalid distribution -ytz (c:\\programdata\\anaconda3\\lib\\site-packages)\n",
      "WARNING: Ignoring invalid distribution - (c:\\programdata\\anaconda3\\lib\\site-packages)\n",
      "WARNING: Ignoring invalid distribution -ytz (c:\\programdata\\anaconda3\\lib\\site-packages)\n",
      "WARNING: Ignoring invalid distribution - (c:\\programdata\\anaconda3\\lib\\site-packages)\n",
      "WARNING: Ignoring invalid distribution -ytz (c:\\programdata\\anaconda3\\lib\\site-packages)\n",
      "WARNING: Ignoring invalid distribution - (c:\\programdata\\anaconda3\\lib\\site-packages)\n",
      "WARNING: Ignoring invalid distribution -ytz (c:\\programdata\\anaconda3\\lib\\site-packages)\n",
      "WARNING: Ignoring invalid distribution - (c:\\programdata\\anaconda3\\lib\\site-packages)\n"
     ]
    }
   ],
   "source": [
    " pip install scipy"
   ]
  },
  {
   "cell_type": "code",
   "execution_count": 29,
   "id": "3fac98cc",
   "metadata": {},
   "outputs": [
    {
     "name": "stdout",
     "output_type": "stream",
     "text": [
      "Requirement already satisfied: scipy in c:\\programdata\\anaconda3\\lib\\site-packages (1.7.1)\n",
      "Requirement already satisfied: numpy<1.23.0,>=1.16.5 in c:\\programdata\\anaconda3\\lib\\site-packages (from scipy) (1.20.3)\n",
      "Note: you may need to restart the kernel to use updated packages.\n"
     ]
    },
    {
     "name": "stderr",
     "output_type": "stream",
     "text": [
      "WARNING: Ignoring invalid distribution -ytz (c:\\programdata\\anaconda3\\lib\\site-packages)\n",
      "WARNING: Ignoring invalid distribution - (c:\\programdata\\anaconda3\\lib\\site-packages)\n",
      "WARNING: Ignoring invalid distribution -ytz (c:\\programdata\\anaconda3\\lib\\site-packages)\n",
      "WARNING: Ignoring invalid distribution - (c:\\programdata\\anaconda3\\lib\\site-packages)\n",
      "WARNING: Ignoring invalid distribution -ytz (c:\\programdata\\anaconda3\\lib\\site-packages)\n",
      "WARNING: Ignoring invalid distribution - (c:\\programdata\\anaconda3\\lib\\site-packages)\n",
      "WARNING: Ignoring invalid distribution -ytz (c:\\programdata\\anaconda3\\lib\\site-packages)\n",
      "WARNING: Ignoring invalid distribution - (c:\\programdata\\anaconda3\\lib\\site-packages)\n",
      "WARNING: Ignoring invalid distribution -ytz (c:\\programdata\\anaconda3\\lib\\site-packages)\n",
      "WARNING: Ignoring invalid distribution - (c:\\programdata\\anaconda3\\lib\\site-packages)\n",
      "WARNING: Ignoring invalid distribution -ytz (c:\\programdata\\anaconda3\\lib\\site-packages)\n",
      "WARNING: Ignoring invalid distribution - (c:\\programdata\\anaconda3\\lib\\site-packages)\n"
     ]
    }
   ],
   "source": [
    "pip install scipy"
   ]
  },
  {
   "cell_type": "code",
   "execution_count": 23,
   "id": "30874ea1",
   "metadata": {},
   "outputs": [],
   "source": [
    "#Visualizing an example:\n",
    "interictal_tst = 'C:/Users/Sara/Desktop/Patient_1/Patient_1_interictal_segment_0001.mat'\n",
    "preictal_tst = 'C:/Users/Sara/Desktop/Patient_1/Patient_1_preictal_segment_0001.mat'\n",
    "interictal_data = scipy.io.loadmat(interictal_tst)\n",
    "preictal_data = scipy.io.loadmat(preictal_tst)\n"
   ]
  },
  {
   "cell_type": "code",
   "execution_count": 24,
   "id": "c6fd6585",
   "metadata": {},
   "outputs": [],
   "source": [
    "interictal_array = interictal_data['interictal_segment_1'][0][0][0]\n",
    "preictal_array = preictal_data['preictal_segment_1'][0][0][0]"
   ]
  },
  {
   "cell_type": "code",
   "execution_count": 25,
   "id": "d99e6684",
   "metadata": {},
   "outputs": [
    {
     "name": "stdout",
     "output_type": "stream",
     "text": [
      "Interictal\n"
     ]
    },
    {
     "data": {
      "image/png": "[encoded data removed]",
      "text/plain": [
       "<Figure size 432x288 with 1 Axes>"
      ]
     },
     "metadata": {
      "needs_background": "light"
     },
     "output_type": "display_data"
    },
    {
     "name": "stdout",
     "output_type": "stream",
     "text": [
      "Preictal\n"
     ]
    },
    {
     "data": {
      "image/png": "[encoded data removed]",
      "text/plain": [
       "<Figure size 432x288 with 1 Axes>"
      ]
     },
     "metadata": {
      "needs_background": "light"
     },
     "output_type": "display_data"
    },
    {
     "name": "stdout",
     "output_type": "stream",
     "text": [
      "Interictal\n"
     ]
    },
    {
     "data": {
      "image/png": "[encoded data removed]",
      "text/plain": [
       "<Figure size 432x288 with 1 Axes>"
      ]
     },
     "metadata": {
      "needs_background": "light"
     },
     "output_type": "display_data"
    },
    {
     "name": "stdout",
     "output_type": "stream",
     "text": [
      "Preictal\n"
     ]
    },
    {
     "data": {
      "image/png": "[encoded data removed]",
      "text/plain": [
       "<Figure size 432x288 with 1 Axes>"
      ]
     },
     "metadata": {
      "needs_background": "light"
     },
     "output_type": "display_data"
    }
   ],
   "source": [
    "# Taking 1 second worth of data of channel 0 for preictal example\n",
    "l = list(range(10000))\n",
    "for i in l[::5000]:\n",
    "    print('Interictal')\n",
    "    i_secs = interictal_array[0][i:i+5000]\n",
    "    i_f, i_t, i_Sxx = spectrogram(i_secs, fs=5000, return_onesided=False)\n",
    "    i_SS = np.log1p(i_Sxx)\n",
    "    plt.imshow(i_SS[:] / np.max(i_SS), cmap='gray')\n",
    "    plt.show()\n",
    "    print('Preictal')\n",
    "    p_secs = preictal_array[0][i:i+5000]\n",
    "    p_f, p_t, p_Sxx = spectrogram(p_secs, fs=5000, return_onesided=False)\n",
    "    p_SS = np.log1p(p_Sxx)\n",
    "    plt.imshow(p_SS[:] / np.max(p_SS), cmap='gray')\n",
    "    plt.show()"
   ]
  },
  {
   "cell_type": "code",
   "execution_count": 26,
   "id": "6f2e5f52",
   "metadata": {},
   "outputs": [],
   "source": [
    "# Creating training and testing data\n",
    "all_X = []\n",
    "all_Y = []\n",
    "\n",
    "types = ['Patient_1_interictal_segment', 'Patient_1_preictal_segment']\n",
    "\n",
    "for i,typ in enumerate(types):\n",
    "    # Looking at 18 files for each event for a balanced dataset\n",
    "    for j in range(18):\n",
    "        fl = 'Patient_1/{}_{}.mat'.format(typ, str(j + 1).zfill(4))\n",
    "        \n",
    "        data = scipy.io.loadmat(fl)\n",
    "        \n",
    "        k = typ.replace('Patient_1_', '') + '_'\n",
    "        \n",
    "        d_array = data[k + str(j + 1)][0][0][0]\n",
    "        lst = list(range(3000000))  # 10 minutes\n",
    "        for m in lst[::5000]:\n",
    "            # Create a spectrogram every 1 second\n",
    "            p_secs = d_array[0][m:m+5000]\n",
    "            p_f, p_t, p_Sxx = spectrogram(p_secs, fs=5000, return_onesided=False)\n",
    "            p_SS = np.log1p(p_Sxx)\n",
    "            arr = p_SS[:] / np.max(p_SS)\n",
    "            all_X.append(arr)\n",
    "            all_Y.append(i)\n",
    "            "
   ]
  },
  {
   "cell_type": "code",
   "execution_count": 27,
   "id": "4aa11b51",
   "metadata": {},
   "outputs": [
    {
     "name": "stdout",
     "output_type": "stream",
     "text": [
      "21600\n"
     ]
    }
   ],
   "source": [
    "# Shuffling the data\n",
    "dataset = list(zip(all_X, all_Y))\n",
    "random.shuffle(dataset)\n",
    "all_X,all_Y = zip(*dataset)\n",
    "print(len(all_X))"
   ]
  },
  {
   "cell_type": "code",
   "execution_count": 28,
   "id": "b3bf7a7d",
   "metadata": {},
   "outputs": [],
   "source": [
    "# Splitting data into train/test, leaving only 600 samples for testing\n",
    "x_train = np.array(all_X[:21000])\n",
    "y_train = np.array(all_Y[:21000])\n",
    "x_test = np.array(all_X[21000:])\n",
    "y_test = np.array(all_Y[21000:])"
   ]
  },
  {
   "cell_type": "code",
   "execution_count": 29,
   "id": "a3adf67a",
   "metadata": {},
   "outputs": [],
   "source": [
    "batch_size = 128\n",
    "num_classes = 2\n",
    "epochs = 30\n",
    "img_rows, img_cols = 256, 22"
   ]
  },
  {
   "cell_type": "code",
   "execution_count": 10,
   "id": "693b2f4e",
   "metadata": {},
   "outputs": [],
   "source": [
    "x_train = x_train.reshape(x_train.shape[0], img_rows, img_cols, 1)\n",
    "x_test = x_test.reshape(x_test.shape[0], img_rows, img_cols, 1)\n",
    "input_shape = (img_rows, img_cols, 1)\n",
    "x_train = x_train.astype('float32')\n",
    "x_test = x_test.astype('float32')"
   ]
  },
  {
   "cell_type": "code",
   "execution_count": 30,
   "id": "45cc3c21",
   "metadata": {},
   "outputs": [],
   "source": [
    "# Formatting the labels for training\n",
    "y_train = tf.keras.utils.to_categorical(y_train, num_classes) \n",
    "y_test = tf.keras.utils.to_categorical(y_test, num_classes)"
   ]
  },
  {
   "cell_type": "code",
   "execution_count": 31,
   "id": "89589a28",
   "metadata": {},
   "outputs": [],
   "source": [
    "model = Sequential()\n",
    "model.add(Conv2D(32, kernel_size=(3, 3),\n",
    "                 activation='relu',\n",
    "                 input_shape=input_shape))\n",
    "model.add(Conv2D(64, (3, 3), activation='relu'))\n",
    "model.add(MaxPooling2D(pool_size=(2, 2)))\n",
    "model.add(Dropout(0.6))\n",
    "model.add(Flatten())\n",
    "model.add(Dense(32, activation='relu'))\n",
    "model.add(Dropout(0.6))\n",
    "model.add(Dense(num_classes, activation='sigmoid'))\n",
    "\n",
    "model.compile(loss=tf.keras.losses.binary_crossentropy,\n",
    "              optimizer=tf.keras.optimizers.RMSprop(),\n",
    "              metrics=['accuracy'])"
   ]
  },
  {
   "cell_type": "code",
   "execution_count": 32,
   "id": "ce4890dd",
   "metadata": {},
   "outputs": [
    {
     "name": "stdout",
     "output_type": "stream",
     "text": [
      "Model: \"sequential_1\"\n",
      "_________________________________________________________________\n",
      "Layer (type)                 Output Shape              Param #   \n",
      "=================================================================\n",
      "conv2d_2 (Conv2D)            (None, 254, 20, 32)       320       \n",
      "_________________________________________________________________\n",
      "conv2d_3 (Conv2D)            (None, 252, 18, 64)       18496     \n",
      "_________________________________________________________________\n",
      "max_pooling2d_1 (MaxPooling2 (None, 126, 9, 64)        0         \n",
      "_________________________________________________________________\n",
      "dropout_2 (Dropout)          (None, 126, 9, 64)        0         \n",
      "_________________________________________________________________\n",
      "flatten_1 (Flatten)          (None, 72576)             0         \n",
      "_________________________________________________________________\n",
      "dense_2 (Dense)              (None, 32)                2322464   \n",
      "_________________________________________________________________\n",
      "dropout_3 (Dropout)          (None, 32)                0         \n",
      "_________________________________________________________________\n",
      "dense_3 (Dense)              (None, 2)                 66        \n",
      "=================================================================\n",
      "Total params: 2,341,346\n",
      "Trainable params: 2,341,346\n",
      "Non-trainable params: 0\n",
      "_________________________________________________________________\n"
     ]
    }
   ],
   "source": [
    "model.summary()"
   ]
  },
  {
   "cell_type": "code",
   "execution_count": null,
   "id": "121cf3a2",
   "metadata": {},
   "outputs": [],
   "source": [
    "input_shape"
   ]
  },
  {
   "cell_type": "code",
   "execution_count": null,
   "id": "72be10d9",
   "metadata": {},
   "outputs": [
    {
     "name": "stdout",
     "output_type": "stream",
     "text": [
      "Epoch 1/30\n",
      " 72/165 [============>.................] - ETA: 19:43 - loss: 0.5120 - accuracy: 0.6472"
     ]
    }
   ],
   "source": [
    "model.fit(x_train, y_train,\n",
    "          batch_size=batch_size,\n",
    "          epochs=epochs,\n",
    "          \n",
    "          verbose=1,\n",
    "          validation_data=(x_test, y_test))\n",
    "score = model.evaluate(x_test, y_test, verbose=0)\n",
    "print('Test loss:', score[0])\n",
    "print('Test accuracy:', score[1])"
   ]
  },
  {
   "cell_type": "code",
   "execution_count": null,
   "id": "20cf4d2f",
   "metadata": {},
   "outputs": [],
   "source": [
    "model.save('C:/Users/Sara/Desktop/model_2.h5')"
   ]
  },
  {
   "cell_type": "code",
   "execution_count": 69,
   "id": "114cebc5",
   "metadata": {},
   "outputs": [
    {
     "name": "stdout",
     "output_type": "stream",
     "text": [
      "X=[[[0.02697417]\n",
      "  [0.05064695]\n",
      "  [0.01312329]\n",
      "  ...\n",
      "  [0.00300981]\n",
      "  [0.01642242]\n",
      "  [0.19779736]]\n",
      "\n",
      " [[0.9560554 ]\n",
      "  [0.6019976 ]\n",
      "  [0.66370547]\n",
      "  ...\n",
      "  [0.8781989 ]\n",
      "  [0.17818464]\n",
      "  [0.6921619 ]]\n",
      "\n",
      " [[0.04232931]\n",
      "  [0.21422076]\n",
      "  [0.0862736 ]\n",
      "  ...\n",
      "  [0.508354  ]\n",
      "  [0.08935078]\n",
      "  [0.08270384]]\n",
      "\n",
      " ...\n",
      "\n",
      " [[0.112652  ]\n",
      "  [0.00582936]\n",
      "  [0.05044131]\n",
      "  ...\n",
      "  [0.03458675]\n",
      "  [0.01503083]\n",
      "  [0.22645701]]\n",
      "\n",
      " [[0.04232931]\n",
      "  [0.21422076]\n",
      "  [0.0862736 ]\n",
      "  ...\n",
      "  [0.508354  ]\n",
      "  [0.08935078]\n",
      "  [0.08270384]]\n",
      "\n",
      " [[0.9560554 ]\n",
      "  [0.6019976 ]\n",
      "  [0.66370547]\n",
      "  ...\n",
      "  [0.8781989 ]\n",
      "  [0.17818464]\n",
      "  [0.6921619 ]]],Predicted=[0 0 0 0 0 1 0 0 0 0 0 0 0 0 1 0 0 0 0 0 1 0 0 1 0 0 0 0 0 1 0 0 0 0 0 0 0\n",
      " 0 0 1 0 1 0 0 0 0 0 0 0 1 0 0 0 1 1 0 1 0 1 0 0 0 0 0 1 1 0 0 0 0 0 0 0 0\n",
      " 0 0 1 0 0 0 0 0 0 0 0 1 0 0 0 0 1 0 0 0 0 1 1 0 1 1 0 0 0 0 1 0 0 0 1 0 0\n",
      " 0 0 0 1 1 1 0 0 0 0 0 0 0 1 0 0 0 0 0 0 0 0 0 0 0 0 0 0 0 0 0 0 0 0 0 0 0\n",
      " 0 0 0 0 0 0 0 0 0 0 1 0 1 1 0 0 1 1 0 0 0 0 0 1 0 0 0 0 0 0 0 0 0 0 1 0 0\n",
      " 0 0 0 1 0 0 0 0 0 0 1 0 1 1 0 0 0 1 0 0 1 0 0 0 1 0 0 1 0 0 0 0 0 0 0 0 0\n",
      " 0 0 0 1 0 0 0 0 0 0 0 0 0 0 1 0 0 0 0 0 0 0 0 0 0 0 0 0 0 0 1 0 0 1 0 1 0\n",
      " 0 0 1 0 1 0 0 0 1 1 0 0 0 0 0 1 0 0 1 1 0 0 0 0 0 0 0 0 0 0 0 0 0 0 0 0 0\n",
      " 0 1 0 0 0 1 0 0 0 0 0 0 0 0 0 1 0 0 0 0 0 0 0 0 0 0 1 1 0 0 0 0 0 0 0 1 0\n",
      " 0 0 0 0 0 1 0 0 0 0 1 1 0 0 0 0 0 0 0 0 0 0 1 0 1 0 0 0 0 0 0 0 0 0 0 0 0\n",
      " 0 0 0 0 0 1 0 1 0 0 0 0 0 0 0 0 0 0 0 0 0 0 1 0 0 0 0 0 0 0 0 0 0 1 0 0 0\n",
      " 0 0 0 0 0 1 0 0 0 0 0 0 0 0 0 0 0 0 1 0 0 1 0 0 0 0 1 0 0 0 0 0 0 0 0 0 0\n",
      " 0 1 0 0 0 0 0 0 1 0 0 0 0 0 0 0 0 0 0 0 0 0 0 1 0 0 0 0 0 0 0 1 0 0 0 1 0\n",
      " 0 0 0 0 0 0 0 0 0 1 0 0 0 0 0 0 1 0 0 0 0 0 0 0 0 1 0 0 1 0 0 0 0 0 1 0 0\n",
      " 0 0 0 1 0 0 1 0 0 0 0 0 0 0 0 0 0 0 0 0 0 0 0 1 0 0 0 0 0 0 0 0 0 0 0 0 0\n",
      " 1 0 0 0 0 0 1 0 0 1 0 1 0 0 0 0 0 0 0 0 0 0 0 0 0 0 0 0 0 0 0 0 0 0 0 0 0\n",
      " 0 0 1 0 0 0 0 0]\n"
     ]
    }
   ],
   "source": [
    "#Those are the output predictions of the test images of the dataset American Society for epilepsy\n",
    "import pandas as pd\n",
    "\n",
    "import matplotlib.pyplot as plt\n",
    "import seaborn as sns\n",
    "label_mapping = {'Interictal': 0,'Preictal':1}\n",
    "model = tf.keras.models.load_model(r\"C:\\Users\\Sara\\Desktop\\TensorLight\")\n",
    "model.compile(loss='binary_crossentropy',\n",
    "              optimizer='rmsprop',\n",
    "              metrics=['accuracy'])\n",
    "from sklearn.metrics import confusion_matrix, classification_report\n",
    "\n",
    "X_test=np.reshape(x_test,(x_test.shape[0], x_test.shape[1],x_test.shape[2],1))\n",
    "\n",
    "y_pred = np.array(list(map(lambda x: np.argmax(x), model.predict(X_test))))\n",
    "print(\"X=%s,Predicted=%s\" %(X_test[0],y_pred))\n",
    "#print(X_test.shape)\n",
    "\n",
    "#cm = confusion_matrix(X_test, y_pred)\n",
    "#clr = classification_report(X_test, y_pred, target_names=label_mapping.keys())\n",
    "\n",
    "#plt.figure(figsize=(2, 2))\n",
    "#sns.heatmap(cm, annot=True, vmin=0, fmt='g', cbar=False, cmap='Blues')\n",
    "#plt.xticks(np.arange(2) + 0.5, label_mapping.keys())\n",
    "#plt.yticks(np.arange(2) + 0.5, label_mapping.keys())\n",
    "#plt.xlabel(\"Predicted\")\n",
    "#plt.ylabel(\"Actual\")\n",
    "#plt.title(\"Confusion Matrix\")\n",
    "#plt.show()\n",
    "#print(y_pred)\n",
    "#print(\"Classification Report:\\n----------------------\\n\", clr)\n",
    "#classes = model.predict_classes(X_test)\n",
    "\n",
    "\n",
    "\n",
    "#print(y_pred)\n"
   ]
  },
  {
   "cell_type": "code",
   "execution_count": null,
   "id": "7532a35b",
   "metadata": {},
   "outputs": [],
   "source": [
    "#!pip install python-firebase\n",
    "#!pip install firebase_admin"
   ]
  },
  {
   "cell_type": "code",
   "execution_count": 33,
   "id": "0590e806",
   "metadata": {},
   "outputs": [
    {
     "name": "stdout",
     "output_type": "stream",
     "text": [
      "Requirement already satisfied: firebase-admin in c:\\programdata\\anaconda3\\lib\\site-packages (5.2.0)\n",
      "Note: you may need to restart the kernel to use updated packages.\n"
     ]
    },
    {
     "name": "stderr",
     "output_type": "stream",
     "text": [
      "WARNING: Ignoring invalid distribution -ytz (c:\\programdata\\anaconda3\\lib\\site-packages)\n",
      "WARNING: Ignoring invalid distribution - (c:\\programdata\\anaconda3\\lib\\site-packages)\n",
      "WARNING: Ignoring invalid distribution -ytz (c:\\programdata\\anaconda3\\lib\\site-packages)\n",
      "WARNING: Ignoring invalid distribution - (c:\\programdata\\anaconda3\\lib\\site-packages)\n",
      "WARNING: Ignoring invalid distribution -ytz (c:\\programdata\\anaconda3\\lib\\site-packages)\n",
      "WARNING: Ignoring invalid distribution - (c:\\programdata\\anaconda3\\lib\\site-packages)\n",
      "WARNING: Ignoring invalid distribution -ytz (c:\\programdata\\anaconda3\\lib\\site-packages)\n",
      "WARNING: Ignoring invalid distribution - (c:\\programdata\\anaconda3\\lib\\site-packages)\n",
      "WARNING: Ignoring invalid distribution -ytz (c:\\programdata\\anaconda3\\lib\\site-packages)\n",
      "WARNING: Ignoring invalid distribution - (c:\\programdata\\anaconda3\\lib\\site-packages)\n",
      "WARNING: Ignoring invalid distribution -ytz (c:\\programdata\\anaconda3\\lib\\site-packages)\n",
      "WARNING: Ignoring invalid distribution - (c:\\programdata\\anaconda3\\lib\\site-packages)\n"
     ]
    }
   ],
   "source": [
    "#pip install --upgrade firebase-admin"
   ]
  },
  {
   "cell_type": "code",
   "execution_count": 85,
   "id": "b8a452d8",
   "metadata": {},
   "outputs": [
    {
     "name": "stdout",
     "output_type": "stream",
     "text": [
      "0\n"
     ]
    }
   ],
   "source": [
    "#val = np.float32(0)\n",
    "#pyval = val.item()\n",
    "#print(type(pyval))  \n",
    "val=(y_pred[0].item())\n",
    "type(val)\n",
    "print(val)"
   ]
  },
  {
   "cell_type": "code",
   "execution_count": 71,
   "id": "47627b68",
   "metadata": {},
   "outputs": [
    {
     "data": {
      "text/plain": [
       "numpy.int64"
      ]
     },
     "execution_count": 71,
     "metadata": {},
     "output_type": "execute_result"
    }
   ],
   "source": [
    "type(y_pred[0])"
   ]
  },
  {
   "cell_type": "code",
   "execution_count": 72,
   "id": "31bcd4b6",
   "metadata": {},
   "outputs": [],
   "source": [
    "from firebase import firebase \n",
    "#from firebase import child\n",
    "#|auth = firebase.FirebaseAuthentication(FIREBASE_SECRET, 'firebase@firebase.com', 'fbpw')\n",
    "myDB=firebase.FirebaseApplication(\"https://epilepsy5-default-rtdb.firebaseio.com/Trial\",None)"
   ]
  },
  {
   "cell_type": "code",
   "execution_count": 51,
   "id": "ef9fec79",
   "metadata": {},
   "outputs": [],
   "source": [
    "firebase.FirebaseApplication?\n"
   ]
  },
  {
   "cell_type": "code",
   "execution_count": 21,
   "id": "6c3adb3d",
   "metadata": {},
   "outputs": [],
   "source": [
    "# import firebase_admin\n",
    "# from firebase_admin import credentials\n",
    "# from firebase_admin import firestore\n",
    "# cred = credentials.Certificate(r\"C:/Users/Sara/Desktop/epilepsy-seizure-firebase-adminsdk-t5y2k-99feb60b5c.json\")\n",
    "# firebase_admin.initialize_app(cred)\n",
    "# db = firestore.client()\n",
    "# users_ref = db.collection(u'Predictions')\n",
    "# docs = users_ref.stream()\n",
    "\n",
    "# for doc in docs:\n",
    "#     print(f'{doc.id} => {doc.to_dict()}')\n",
    "\n",
    "# # Create a reference for the document before setting\n",
    "# data = {\n",
    "#     'ID': 'IVL1gDEkb5V365Rgk1DCxTRq0pu3',\n",
    "#     'status': '0'\n",
    "# }\n",
    "\n",
    "# # Add a new doc in collection 'persons' with ID 'HP'\n",
    "# db.collection('Predictions').document('hp1').set(data)"
   ]
  },
  {
   "cell_type": "code",
   "execution_count": 20,
   "id": "1d0eda7c",
   "metadata": {},
   "outputs": [],
   "source": [
    "# import firebase_admin\n",
    "# from firebase_admin import credentials\n",
    "\n",
    "\n",
    "# doc_ref = db.collection(u'Predictions').document(u'')\n",
    "# doc_ref.set({\n",
    "#     u'ID': u'OVL1gDEkb5V365Rgk1DCxTRq0pu2',\n",
    "#     u'Status': u'0'\n",
    "# })"
   ]
  },
  {
   "cell_type": "code",
   "execution_count": 19,
   "id": "d33a9961",
   "metadata": {},
   "outputs": [],
   "source": [
    "# import firebase_admin\n",
    "# from firebase_admin import credentials\n",
    "\n",
    "\n",
    "# #cred = credentials.Certificate(\"path/to/serviceAccountKey.json\")\n",
    "# firebase_admin.initialize_app(cred)"
   ]
  },
  {
   "cell_type": "code",
   "execution_count": 25,
   "id": "8e45d839",
   "metadata": {},
   "outputs": [
    {
     "name": "stdout",
     "output_type": "stream",
     "text": [
      "0\n"
     ]
    }
   ],
   "source": [
    "val=(y_pred[9].item())\n",
    "type(val)\n",
    "print(val)"
   ]
  },
  {
   "cell_type": "code",
   "execution_count": 87,
   "id": "2d648e67",
   "metadata": {},
   "outputs": [
    {
     "name": "stdout",
     "output_type": "stream",
     "text": [
      "Enter namesara\n"
     ]
    },
    {
     "data": {
      "text/plain": [
       "{'prediction': 0}"
      ]
     },
     "execution_count": 87,
     "metadata": {},
     "output_type": "execute_result"
    }
   ],
   "source": [
    "name=input('Enter name')\n",
    "data={\n",
    "    \n",
    "    \"prediction\":val\n",
    "}\n",
    "   \n",
    "myDB.patch(\"Trial\",data)"
   ]
  },
  {
   "cell_type": "code",
   "execution_count": 22,
   "id": "40f90385",
   "metadata": {
    "scrolled": true
   },
   "outputs": [],
   "source": [
    "# myDB(\"User\").(\"-N2gc459ByQ7RFMU-P1A\").update({\"prediction\": val})"
   ]
  },
  {
   "cell_type": "code",
   "execution_count": null,
   "id": "93d7c05c",
   "metadata": {},
   "outputs": [],
   "source": [
    "#import pandas as pd\n",
    "\n",
    "#import matplotlib.pyplot as plt\n",
    "#import seaborn as sns\n",
    "#label_mapping = {'Interictal': 0,'Preictal':1}\n",
    "#from sklearn.metrics import confusion_matrix, classification_report\n",
    "\n",
    "#y_pred = np.array(list(map(lambda x: np.argmax(x), model.predict(X_test))))\n",
    "#print(\"X=%s,Predicted=%s\" %(X_test,y_pred))\n",
    "#cm = confusion_matrix(y_test, y_pred)\n",
    "#clr = classification_report(y_test, y_pred, target_names=label_mapping.keys())\n",
    "\n",
    "#plt.figure(figsize=(2, 2))\n",
    "#sns.heatmap(cm, annot=True, vmin=0, fmt='g', cbar=False, cmap='Blues')\n",
    "#plt.xticks(np.arange(2) + 0.5, label_mapping.keys())\n",
    "#plt.yticks(np.arange(2) + 0.5, label_mapping.keys())\n",
    "#plt.xlabel(\"Predicted\")\n",
    "#plt.ylabel(\"Actual\")\n",
    "#plt.title(\"Confusion Matrix\")\n",
    "#plt.show()\n",
    "#print(y_pred)\n",
    "#print(\"Classification Report:\\n----------------------\\n\", clr)"
   ]
  },
  {
   "cell_type": "code",
   "execution_count": null,
   "id": "08961be8",
   "metadata": {},
   "outputs": [],
   "source": [
    "import numpy as np\n",
    "import pandas as pd\n",
    "prediction = pd.DataFrame(classes, columns=['predictions']).to_csv('prediction.csv')"
   ]
  },
  {
   "cell_type": "code",
   "execution_count": null,
   "id": "9241d941",
   "metadata": {},
   "outputs": [],
   "source": []
  }
 ],
 "metadata": {
  "kernelspec": {
   "display_name": "Python 3 (ipykernel)",
   "language": "python",
   "name": "python3"
  },
  "language_info": {
   "codemirror_mode": {
    "name": "ipython",
    "version": 3
   },
   "file_extension": ".py",
   "mimetype": "text/x-python",
   "name": "python",
   "nbconvert_exporter": "python",
   "pygments_lexer": "ipython3",
   "version": "3.9.7"
  }
 },
 "nbformat": 4,
 "nbformat_minor": 5
}
